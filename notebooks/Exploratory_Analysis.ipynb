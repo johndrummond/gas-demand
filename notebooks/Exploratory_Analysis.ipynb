{
 "cells": [
  {
   "cell_type": "markdown",
   "metadata": {},
   "source": [
    "# Exploratory analysis of gas demand set"
   ]
  },
  {
   "cell_type": "markdown",
   "metadata": {},
   "source": [
    "Load libraries"
   ]
  },
  {
   "cell_type": "code",
   "execution_count": 28,
   "metadata": {},
   "outputs": [],
   "source": [
    "import pandas as pd\n",
    "import os\n",
    "import matplotlib as plt"
   ]
  },
  {
   "cell_type": "markdown",
   "metadata": {},
   "source": [
    "Load Dataset"
   ]
  },
  {
   "cell_type": "code",
   "execution_count": 5,
   "metadata": {},
   "outputs": [],
   "source": [
    "gas_src = pd.read_csv(\"../data/raw/weather_and_gas_demand_historic_actuals.csv\")"
   ]
  },
  {
   "cell_type": "markdown",
   "metadata": {},
   "source": [
    "View head"
   ]
  },
  {
   "cell_type": "code",
   "execution_count": 6,
   "metadata": {},
   "outputs": [
    {
     "output_type": "execute_result",
     "data": {
      "text/plain": [
       "           dy  station_01_temperature_degrees_celcius  \\\n",
       "0  01/10/2013                                   10.32   \n",
       "1  02/10/2013                                   10.35   \n",
       "2  03/10/2013                                   11.67   \n",
       "3  04/10/2013                                   13.19   \n",
       "4  05/10/2013                                   12.49   \n",
       "\n",
       "   station_02_temperature_degrees_celcius  station_01_wind_speed_m_per_s  \\\n",
       "0                                   11.58                           8.47   \n",
       "1                                   11.54                           9.23   \n",
       "2                                   13.28                          10.13   \n",
       "3                                   15.27                          10.33   \n",
       "4                                   14.17                           5.90   \n",
       "\n",
       "   station_02_wind_speed_m_per_s  gas_demand_mcm  \n",
       "0                           6.32           71.87  \n",
       "1                           7.31           76.93  \n",
       "2                           6.67           72.70  \n",
       "3                           5.32           61.30  \n",
       "4                           3.60           52.51  "
      ],
      "text/html": "<div>\n<style scoped>\n    .dataframe tbody tr th:only-of-type {\n        vertical-align: middle;\n    }\n\n    .dataframe tbody tr th {\n        vertical-align: top;\n    }\n\n    .dataframe thead th {\n        text-align: right;\n    }\n</style>\n<table border=\"1\" class=\"dataframe\">\n  <thead>\n    <tr style=\"text-align: right;\">\n      <th></th>\n      <th>dy</th>\n      <th>station_01_temperature_degrees_celcius</th>\n      <th>station_02_temperature_degrees_celcius</th>\n      <th>station_01_wind_speed_m_per_s</th>\n      <th>station_02_wind_speed_m_per_s</th>\n      <th>gas_demand_mcm</th>\n    </tr>\n  </thead>\n  <tbody>\n    <tr>\n      <th>0</th>\n      <td>01/10/2013</td>\n      <td>10.32</td>\n      <td>11.58</td>\n      <td>8.47</td>\n      <td>6.32</td>\n      <td>71.87</td>\n    </tr>\n    <tr>\n      <th>1</th>\n      <td>02/10/2013</td>\n      <td>10.35</td>\n      <td>11.54</td>\n      <td>9.23</td>\n      <td>7.31</td>\n      <td>76.93</td>\n    </tr>\n    <tr>\n      <th>2</th>\n      <td>03/10/2013</td>\n      <td>11.67</td>\n      <td>13.28</td>\n      <td>10.13</td>\n      <td>6.67</td>\n      <td>72.70</td>\n    </tr>\n    <tr>\n      <th>3</th>\n      <td>04/10/2013</td>\n      <td>13.19</td>\n      <td>15.27</td>\n      <td>10.33</td>\n      <td>5.32</td>\n      <td>61.30</td>\n    </tr>\n    <tr>\n      <th>4</th>\n      <td>05/10/2013</td>\n      <td>12.49</td>\n      <td>14.17</td>\n      <td>5.90</td>\n      <td>3.60</td>\n      <td>52.51</td>\n    </tr>\n  </tbody>\n</table>\n</div>"
     },
     "metadata": {},
     "execution_count": 6
    }
   ],
   "source": [
    "gas_src.head()"
   ]
  },
  {
   "source": [
    "Rename Columns"
   ],
   "cell_type": "markdown",
   "metadata": {}
  },
  {
   "cell_type": "code",
   "execution_count": 8,
   "metadata": {},
   "outputs": [],
   "source": [
    "gas_src.columns = ['day','s1_deg_c','s2_deg_c','s1_wind','s2_wind','gas_demand']"
   ]
  },
  {
   "source": [
    "Convert day from text"
   ],
   "cell_type": "markdown",
   "metadata": {}
  },
  {
   "cell_type": "code",
   "execution_count": 10,
   "metadata": {},
   "outputs": [],
   "source": [
    "gas_src['day'] = pd.to_datetime(gas_src['day'],format=\"%d/%m/%Y\")"
   ]
  },
  {
   "source": [
    "Are there any duplicate days?"
   ],
   "cell_type": "markdown",
   "metadata": {}
  },
  {
   "cell_type": "code",
   "execution_count": 15,
   "metadata": {},
   "outputs": [
    {
     "output_type": "execute_result",
     "data": {
      "text/plain": [
       "Empty DataFrame\n",
       "Columns: [day, s1_deg_c, s2_deg_c, s1_wind, s2_wind, gas_demand]\n",
       "Index: []"
      ],
      "text/html": "<div>\n<style scoped>\n    .dataframe tbody tr th:only-of-type {\n        vertical-align: middle;\n    }\n\n    .dataframe tbody tr th {\n        vertical-align: top;\n    }\n\n    .dataframe thead th {\n        text-align: right;\n    }\n</style>\n<table border=\"1\" class=\"dataframe\">\n  <thead>\n    <tr style=\"text-align: right;\">\n      <th></th>\n      <th>day</th>\n      <th>s1_deg_c</th>\n      <th>s2_deg_c</th>\n      <th>s1_wind</th>\n      <th>s2_wind</th>\n      <th>gas_demand</th>\n    </tr>\n  </thead>\n  <tbody>\n  </tbody>\n</table>\n</div>"
     },
     "metadata": {},
     "execution_count": 15
    }
   ],
   "source": [
    "gas_src[gas_src['day'].duplicated()]"
   ]
  },
  {
   "source": [
    "No duplicates found"
   ],
   "cell_type": "markdown",
   "metadata": {}
  },
  {
   "source": [
    "Set index to day"
   ],
   "cell_type": "markdown",
   "metadata": {}
  },
  {
   "cell_type": "code",
   "execution_count": 17,
   "metadata": {},
   "outputs": [],
   "source": [
    "gas_src = gas_src.set_index('day')"
   ]
  },
  {
   "cell_type": "markdown",
   "metadata": {},
   "source": [
    "Check missing calendar days - do they need imputing?"
   ]
  },
  {
   "cell_type": "code",
   "execution_count": 18,
   "metadata": {},
   "outputs": [
    {
     "output_type": "execute_result",
     "data": {
      "text/plain": [
       "            s1_deg_c  s2_deg_c  s1_wind  s2_wind  gas_demand\n",
       "day                                                         \n",
       "2013-10-01     10.32     11.58     8.47     6.32       71.87\n",
       "2013-10-02     10.35     11.54     9.23     7.31       76.93\n",
       "2013-10-03     11.67     13.28    10.13     6.67       72.70\n",
       "2013-10-04     13.19     15.27    10.33     5.32       61.30\n",
       "2013-10-05     12.49     14.17     5.90     3.60       52.51\n",
       "...              ...       ...      ...      ...         ...\n",
       "2019-09-26     16.42     14.85    10.42     7.33       60.32\n",
       "2019-09-27     17.21     15.62    11.55     9.18       55.47\n",
       "2019-09-28     15.51     14.75    12.47    10.38       50.67\n",
       "2019-09-29     16.70     15.68    15.29    13.84       56.26\n",
       "2019-09-30     16.33     15.23    12.13     9.25       60.17\n",
       "\n",
       "[2174 rows x 5 columns]"
      ],
      "text/html": "<div>\n<style scoped>\n    .dataframe tbody tr th:only-of-type {\n        vertical-align: middle;\n    }\n\n    .dataframe tbody tr th {\n        vertical-align: top;\n    }\n\n    .dataframe thead th {\n        text-align: right;\n    }\n</style>\n<table border=\"1\" class=\"dataframe\">\n  <thead>\n    <tr style=\"text-align: right;\">\n      <th></th>\n      <th>s1_deg_c</th>\n      <th>s2_deg_c</th>\n      <th>s1_wind</th>\n      <th>s2_wind</th>\n      <th>gas_demand</th>\n    </tr>\n    <tr>\n      <th>day</th>\n      <th></th>\n      <th></th>\n      <th></th>\n      <th></th>\n      <th></th>\n    </tr>\n  </thead>\n  <tbody>\n    <tr>\n      <th>2013-10-01</th>\n      <td>10.32</td>\n      <td>11.58</td>\n      <td>8.47</td>\n      <td>6.32</td>\n      <td>71.87</td>\n    </tr>\n    <tr>\n      <th>2013-10-02</th>\n      <td>10.35</td>\n      <td>11.54</td>\n      <td>9.23</td>\n      <td>7.31</td>\n      <td>76.93</td>\n    </tr>\n    <tr>\n      <th>2013-10-03</th>\n      <td>11.67</td>\n      <td>13.28</td>\n      <td>10.13</td>\n      <td>6.67</td>\n      <td>72.70</td>\n    </tr>\n    <tr>\n      <th>2013-10-04</th>\n      <td>13.19</td>\n      <td>15.27</td>\n      <td>10.33</td>\n      <td>5.32</td>\n      <td>61.30</td>\n    </tr>\n    <tr>\n      <th>2013-10-05</th>\n      <td>12.49</td>\n      <td>14.17</td>\n      <td>5.90</td>\n      <td>3.60</td>\n      <td>52.51</td>\n    </tr>\n    <tr>\n      <th>...</th>\n      <td>...</td>\n      <td>...</td>\n      <td>...</td>\n      <td>...</td>\n      <td>...</td>\n    </tr>\n    <tr>\n      <th>2019-09-26</th>\n      <td>16.42</td>\n      <td>14.85</td>\n      <td>10.42</td>\n      <td>7.33</td>\n      <td>60.32</td>\n    </tr>\n    <tr>\n      <th>2019-09-27</th>\n      <td>17.21</td>\n      <td>15.62</td>\n      <td>11.55</td>\n      <td>9.18</td>\n      <td>55.47</td>\n    </tr>\n    <tr>\n      <th>2019-09-28</th>\n      <td>15.51</td>\n      <td>14.75</td>\n      <td>12.47</td>\n      <td>10.38</td>\n      <td>50.67</td>\n    </tr>\n    <tr>\n      <th>2019-09-29</th>\n      <td>16.70</td>\n      <td>15.68</td>\n      <td>15.29</td>\n      <td>13.84</td>\n      <td>56.26</td>\n    </tr>\n    <tr>\n      <th>2019-09-30</th>\n      <td>16.33</td>\n      <td>15.23</td>\n      <td>12.13</td>\n      <td>9.25</td>\n      <td>60.17</td>\n    </tr>\n  </tbody>\n</table>\n<p>2174 rows × 5 columns</p>\n</div>"
     },
     "metadata": {},
     "execution_count": 18
    }
   ],
   "source": [
    "gas_src"
   ]
  },
  {
   "cell_type": "code",
   "execution_count": 20,
   "metadata": {},
   "outputs": [
    {
     "output_type": "execute_result",
     "data": {
      "text/plain": [
       "DatetimeIndex(['2013-11-04', '2013-11-19', '2013-11-20', '2013-12-30',\n",
       "               '2013-12-31', '2014-03-29', '2014-03-30', '2014-11-03',\n",
       "               '2014-12-30', '2014-12-31', '2015-03-28', '2015-03-29',\n",
       "               '2015-07-17', '2015-07-18', '2016-03-26', '2017-03-25',\n",
       "               '2018-03-24'],\n",
       "              dtype='datetime64[ns]', freq=None)"
      ]
     },
     "metadata": {},
     "execution_count": 20
    }
   ],
   "source": [
    "pd.date_range(start = gas_src.first_valid_index(), end = gas_src.last_valid_index() ).difference(gas_src.index)"
   ]
  },
  {
   "source": [
    "So there are 16 missing days in the part of the source data used for prediction"
   ],
   "cell_type": "markdown",
   "metadata": {}
  },
  {
   "cell_type": "markdown",
   "metadata": {},
   "source": [
    "Check Numbers of Rows and description"
   ]
  },
  {
   "cell_type": "code",
   "execution_count": 21,
   "metadata": {},
   "outputs": [
    {
     "output_type": "stream",
     "name": "stdout",
     "text": [
      "<class 'pandas.core.frame.DataFrame'>\nDatetimeIndex: 2174 entries, 2013-10-01 to 2019-09-30\nData columns (total 5 columns):\n #   Column      Non-Null Count  Dtype  \n---  ------      --------------  -----  \n 0   s1_deg_c    2169 non-null   float64\n 1   s2_deg_c    2172 non-null   float64\n 2   s1_wind     2173 non-null   float64\n 3   s2_wind     2172 non-null   float64\n 4   gas_demand  2170 non-null   float64\ndtypes: float64(5)\nmemory usage: 101.9 KB\n"
     ]
    }
   ],
   "source": [
    "gas_src.info()"
   ]
  },
  {
   "cell_type": "code",
   "execution_count": 22,
   "metadata": {},
   "outputs": [
    {
     "output_type": "execute_result",
     "data": {
      "text/plain": [
       "          s1_deg_c     s2_deg_c      s1_wind      s2_wind   gas_demand\n",
       "count  2169.000000  2172.000000  2173.000000  2172.000000  2170.000000\n",
       "mean     11.572158    11.112224     8.297395     6.524429    89.276032\n",
       "std       6.490849     6.524763     3.219184     2.509341    51.085797\n",
       "min      -7.300000    -6.070000     2.530000     1.840000    24.640000\n",
       "25%       6.250000     5.747500     6.020000     4.750000    41.572500\n",
       "50%      11.080000    10.970000     7.680000     6.080000    76.355000\n",
       "75%      16.970000    16.422500     9.910000     7.682500   131.017500\n",
       "max      29.210000    28.130000    22.190000    18.870000   270.690000"
      ],
      "text/html": "<div>\n<style scoped>\n    .dataframe tbody tr th:only-of-type {\n        vertical-align: middle;\n    }\n\n    .dataframe tbody tr th {\n        vertical-align: top;\n    }\n\n    .dataframe thead th {\n        text-align: right;\n    }\n</style>\n<table border=\"1\" class=\"dataframe\">\n  <thead>\n    <tr style=\"text-align: right;\">\n      <th></th>\n      <th>s1_deg_c</th>\n      <th>s2_deg_c</th>\n      <th>s1_wind</th>\n      <th>s2_wind</th>\n      <th>gas_demand</th>\n    </tr>\n  </thead>\n  <tbody>\n    <tr>\n      <th>count</th>\n      <td>2169.000000</td>\n      <td>2172.000000</td>\n      <td>2173.000000</td>\n      <td>2172.000000</td>\n      <td>2170.000000</td>\n    </tr>\n    <tr>\n      <th>mean</th>\n      <td>11.572158</td>\n      <td>11.112224</td>\n      <td>8.297395</td>\n      <td>6.524429</td>\n      <td>89.276032</td>\n    </tr>\n    <tr>\n      <th>std</th>\n      <td>6.490849</td>\n      <td>6.524763</td>\n      <td>3.219184</td>\n      <td>2.509341</td>\n      <td>51.085797</td>\n    </tr>\n    <tr>\n      <th>min</th>\n      <td>-7.300000</td>\n      <td>-6.070000</td>\n      <td>2.530000</td>\n      <td>1.840000</td>\n      <td>24.640000</td>\n    </tr>\n    <tr>\n      <th>25%</th>\n      <td>6.250000</td>\n      <td>5.747500</td>\n      <td>6.020000</td>\n      <td>4.750000</td>\n      <td>41.572500</td>\n    </tr>\n    <tr>\n      <th>50%</th>\n      <td>11.080000</td>\n      <td>10.970000</td>\n      <td>7.680000</td>\n      <td>6.080000</td>\n      <td>76.355000</td>\n    </tr>\n    <tr>\n      <th>75%</th>\n      <td>16.970000</td>\n      <td>16.422500</td>\n      <td>9.910000</td>\n      <td>7.682500</td>\n      <td>131.017500</td>\n    </tr>\n    <tr>\n      <th>max</th>\n      <td>29.210000</td>\n      <td>28.130000</td>\n      <td>22.190000</td>\n      <td>18.870000</td>\n      <td>270.690000</td>\n    </tr>\n  </tbody>\n</table>\n</div>"
     },
     "metadata": {},
     "execution_count": 22
    }
   ],
   "source": [
    "gas_src.describe()"
   ]
  },
  {
   "cell_type": "code",
   "execution_count": 24,
   "metadata": {},
   "outputs": [
    {
     "output_type": "execute_result",
     "data": {
      "text/plain": [
       "            s1_deg_c  s2_deg_c  s1_wind  s2_wind  gas_demand\n",
       "2014-06-08     21.02     22.37     4.64     4.88       27.23\n",
       "2014-06-09     23.03     22.84     6.14     5.75       29.39\n",
       "2014-07-06     19.89     19.90     8.83     8.39       29.08\n",
       "2014-07-13     18.80     17.84     6.41     5.43       29.90\n",
       "2014-07-19       NaN     26.12     6.60     5.95       25.33\n",
       "...              ...       ...      ...      ...         ...\n",
       "2019-07-27     20.82     19.62     6.82     6.01       28.87\n",
       "2019-07-28     19.80     17.36     8.48     5.80       27.16\n",
       "2019-08-03     18.28     17.33     6.23     3.47       28.63\n",
       "2019-08-04     21.25     20.69     4.85     4.17       27.42\n",
       "2019-08-10     21.84     20.73    16.18    11.51       29.53\n",
       "\n",
       "[71 rows x 5 columns]"
      ],
      "text/html": "<div>\n<style scoped>\n    .dataframe tbody tr th:only-of-type {\n        vertical-align: middle;\n    }\n\n    .dataframe tbody tr th {\n        vertical-align: top;\n    }\n\n    .dataframe thead th {\n        text-align: right;\n    }\n</style>\n<table border=\"1\" class=\"dataframe\">\n  <thead>\n    <tr style=\"text-align: right;\">\n      <th></th>\n      <th>s1_deg_c</th>\n      <th>s2_deg_c</th>\n      <th>s1_wind</th>\n      <th>s2_wind</th>\n      <th>gas_demand</th>\n    </tr>\n  </thead>\n  <tbody>\n    <tr>\n      <th>2014-06-08</th>\n      <td>21.02</td>\n      <td>22.37</td>\n      <td>4.64</td>\n      <td>4.88</td>\n      <td>27.23</td>\n    </tr>\n    <tr>\n      <th>2014-06-09</th>\n      <td>23.03</td>\n      <td>22.84</td>\n      <td>6.14</td>\n      <td>5.75</td>\n      <td>29.39</td>\n    </tr>\n    <tr>\n      <th>2014-07-06</th>\n      <td>19.89</td>\n      <td>19.90</td>\n      <td>8.83</td>\n      <td>8.39</td>\n      <td>29.08</td>\n    </tr>\n    <tr>\n      <th>2014-07-13</th>\n      <td>18.80</td>\n      <td>17.84</td>\n      <td>6.41</td>\n      <td>5.43</td>\n      <td>29.90</td>\n    </tr>\n    <tr>\n      <th>2014-07-19</th>\n      <td>NaN</td>\n      <td>26.12</td>\n      <td>6.60</td>\n      <td>5.95</td>\n      <td>25.33</td>\n    </tr>\n    <tr>\n      <th>...</th>\n      <td>...</td>\n      <td>...</td>\n      <td>...</td>\n      <td>...</td>\n      <td>...</td>\n    </tr>\n    <tr>\n      <th>2019-07-27</th>\n      <td>20.82</td>\n      <td>19.62</td>\n      <td>6.82</td>\n      <td>6.01</td>\n      <td>28.87</td>\n    </tr>\n    <tr>\n      <th>2019-07-28</th>\n      <td>19.80</td>\n      <td>17.36</td>\n      <td>8.48</td>\n      <td>5.80</td>\n      <td>27.16</td>\n    </tr>\n    <tr>\n      <th>2019-08-03</th>\n      <td>18.28</td>\n      <td>17.33</td>\n      <td>6.23</td>\n      <td>3.47</td>\n      <td>28.63</td>\n    </tr>\n    <tr>\n      <th>2019-08-04</th>\n      <td>21.25</td>\n      <td>20.69</td>\n      <td>4.85</td>\n      <td>4.17</td>\n      <td>27.42</td>\n    </tr>\n    <tr>\n      <th>2019-08-10</th>\n      <td>21.84</td>\n      <td>20.73</td>\n      <td>16.18</td>\n      <td>11.51</td>\n      <td>29.53</td>\n    </tr>\n  </tbody>\n</table>\n<p>71 rows × 5 columns</p>\n</div>"
     },
     "metadata": {},
     "execution_count": 24
    }
   ],
   "source": [
    "gas_src[gas_src['gas_demand'] < 30]"
   ]
  },
  {
   "cell_type": "code",
   "execution_count": 27,
   "metadata": {},
   "outputs": [
    {
     "output_type": "execute_result",
     "data": {
      "text/plain": [
       "2013-12-31     9695.94\n",
       "2014-12-31    28872.38\n",
       "2015-12-31    31766.27\n",
       "2016-12-31    33325.59\n",
       "2017-12-31    33897.01\n",
       "2018-12-31    33782.10\n",
       "2019-12-31    22389.70\n",
       "Freq: A-DEC, Name: gas_demand, dtype: float64"
      ]
     },
     "metadata": {},
     "execution_count": 27
    }
   ],
   "source": [
    "gas_src['gas_demand'].resample('Y').sum()"
   ]
  },
  {
   "source": [
    "There are 2174 rows as expected from looking at the text file. However there are some missing values, which will need imputing for the prediction. There are no anomalous values - wind from 1.4 to 22.2 m/s is plausible, similarly temperatures from - 7 to 29 \n",
    "The gas demand also looks plausible."
   ],
   "cell_type": "markdown",
   "metadata": {}
  },
  {
   "source": [
    "Insert rows for missing dates"
   ],
   "cell_type": "markdown",
   "metadata": {}
  },
  {
   "cell_type": "code",
   "execution_count": 23,
   "metadata": {},
   "outputs": [],
   "source": [
    "alldays = pd.date_range(start = gas_src.first_valid_index(), end = gas_src.last_valid_index() )\n",
    "gas_src = gas_src.reindex(alldays)"
   ]
  },
  {
   "cell_type": "markdown",
   "metadata": {},
   "source": [
    "Visualize the "
   ]
  },
  {
   "cell_type": "markdown",
   "metadata": {},
   "source": [
    "Create in sample data set. \n",
    "Assuming there is no 2018 or later data and thus the forecast is to be made as at end 2017"
   ]
  },
  {
   "source": [
    "Impute missing data"
   ],
   "cell_type": "markdown",
   "metadata": {}
  }
 ],
 "metadata": {
  "kernelspec": {
   "display_name": "Python 3",
   "language": "python",
   "name": "python3"
  },
  "language_info": {
   "codemirror_mode": {
    "name": "ipython",
    "version": 3
   },
   "file_extension": ".py",
   "mimetype": "text/x-python",
   "name": "python",
   "nbconvert_exporter": "python",
   "pygments_lexer": "ipython3",
   "version": "3.8.5-final"
  }
 },
 "nbformat": 4,
 "nbformat_minor": 4
}